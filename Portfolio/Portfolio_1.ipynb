{
 "cells": [
  {
   "cell_type": "code",
   "execution_count": 2,
   "id": "49b3daa0-57f7-45df-bc37-3dbdb4beacd7",
   "metadata": {},
   "outputs": [],
   "source": [
    "import pandas as pd\n",
    "from sklearn.model_selection import train_test_split\n",
    "import matplotlib.pyplot as plt\n",
    "from sklearn.linear_model import LinearRegression"
   ]
  },
  {
   "cell_type": "code",
   "execution_count": 3,
   "id": "607356fe-b579-448f-9862-cbd659356400",
   "metadata": {},
   "outputs": [],
   "source": [
    "businesses = pd.read_json('Portfolio/yelp_business.json', lines=True)\n",
    "reviews = pd.read_json('Portfolio/yelp_review.json', lines=True)\n",
    "users = pd.read_json('Portfolio/yelp_user.json', lines=True)\n",
    "checkins = pd.read_json('Portfolio/yelp_checkin.json', lines=True)\n",
    "tips = pd.read_json('Portfolio/yelp_tip.json', lines=True)\n",
    "photos = pd.read_json('Portfolio/yelp_photo.json', lines=True)\n"
   ]
  },
  {
   "cell_type": "code",
   "execution_count": 4,
   "id": "3d54df36-ac1a-4ea7-bbbb-020b4eee7aa2",
   "metadata": {},
   "outputs": [],
   "source": [
    "pd.options.display.max_columns = 60\n",
    "pd.options.display.max_colwidth = 500"
   ]
  },
  {
   "cell_type": "code",
   "execution_count": 5,
   "id": "cc101036-b812-497d-bc70-7dacc2595cb1",
   "metadata": {},
   "outputs": [
    {
     "data": {
      "text/html": [
       "<div>\n",
       "<style scoped>\n",
       "    .dataframe tbody tr th:only-of-type {\n",
       "        vertical-align: middle;\n",
       "    }\n",
       "\n",
       "    .dataframe tbody tr th {\n",
       "        vertical-align: top;\n",
       "    }\n",
       "\n",
       "    .dataframe thead th {\n",
       "        text-align: right;\n",
       "    }\n",
       "</style>\n",
       "<table border=\"1\" class=\"dataframe\">\n",
       "  <thead>\n",
       "    <tr style=\"text-align: right;\">\n",
       "      <th></th>\n",
       "      <th>business_id</th>\n",
       "      <th>average_caption_length</th>\n",
       "      <th>number_pics</th>\n",
       "    </tr>\n",
       "  </thead>\n",
       "  <tbody>\n",
       "    <tr>\n",
       "      <th>0</th>\n",
       "      <td>--1UhMGODdWsrMastO9DZw</td>\n",
       "      <td>0.000000</td>\n",
       "      <td>1</td>\n",
       "    </tr>\n",
       "    <tr>\n",
       "      <th>1</th>\n",
       "      <td>--6MefnULPED_I942VcFNA</td>\n",
       "      <td>67.500000</td>\n",
       "      <td>2</td>\n",
       "    </tr>\n",
       "    <tr>\n",
       "      <th>2</th>\n",
       "      <td>--9e1ONYQuAa-CB_Rrw7Tw</td>\n",
       "      <td>30.426471</td>\n",
       "      <td>136</td>\n",
       "    </tr>\n",
       "    <tr>\n",
       "      <th>3</th>\n",
       "      <td>--DaPTJW3-tB1vP-PfdTEg</td>\n",
       "      <td>0.000000</td>\n",
       "      <td>1</td>\n",
       "    </tr>\n",
       "    <tr>\n",
       "      <th>4</th>\n",
       "      <td>--FBCX-N37CMYDfs790Bnw</td>\n",
       "      <td>5.500000</td>\n",
       "      <td>4</td>\n",
       "    </tr>\n",
       "  </tbody>\n",
       "</table>\n",
       "</div>"
      ],
      "text/plain": [
       "              business_id  average_caption_length  number_pics\n",
       "0  --1UhMGODdWsrMastO9DZw                0.000000            1\n",
       "1  --6MefnULPED_I942VcFNA               67.500000            2\n",
       "2  --9e1ONYQuAa-CB_Rrw7Tw               30.426471          136\n",
       "3  --DaPTJW3-tB1vP-PfdTEg                0.000000            1\n",
       "4  --FBCX-N37CMYDfs790Bnw                5.500000            4"
      ]
     },
     "execution_count": 5,
     "metadata": {},
     "output_type": "execute_result"
    }
   ],
   "source": [
    "businesses.head()\n",
    "reviews.head()\n",
    "users.head()\n",
    "checkins.head()\n",
    "tips.head()\n",
    "photos.head()"
   ]
  },
  {
   "cell_type": "code",
   "execution_count": 6,
   "id": "0e0a9951-364d-482e-9a40-f5ae8012642b",
   "metadata": {},
   "outputs": [
    {
     "data": {
      "text/plain": [
       "Index(['address', 'alcohol?', 'attributes', 'business_id', 'categories',\n",
       "       'city', 'good_for_kids', 'has_bike_parking', 'has_wifi', 'hours',\n",
       "       'is_open', 'latitude', 'longitude', 'name', 'neighborhood',\n",
       "       'postal_code', 'price_range', 'review_count', 'stars', 'state',\n",
       "       'take_reservations', 'takes_credit_cards'],\n",
       "      dtype='object')"
      ]
     },
     "execution_count": 6,
     "metadata": {},
     "output_type": "execute_result"
    }
   ],
   "source": [
    "businesses.columns"
   ]
  },
  {
   "cell_type": "code",
   "execution_count": 7,
   "id": "9b4b1439-6d5b-4f44-a561-a8d8d7118ddb",
   "metadata": {},
   "outputs": [
    {
     "data": {
      "text/plain": [
       "Index(['business_id', 'average_review_age', 'average_review_length',\n",
       "       'average_review_sentiment', 'number_funny_votes', 'number_cool_votes',\n",
       "       'number_useful_votes'],\n",
       "      dtype='object')"
      ]
     },
     "execution_count": 7,
     "metadata": {},
     "output_type": "execute_result"
    }
   ],
   "source": [
    "reviews.columns"
   ]
  },
  {
   "cell_type": "code",
   "execution_count": 8,
   "id": "160e50cd-e818-40e7-a652-5516dbfa746a",
   "metadata": {},
   "outputs": [
    {
     "name": "stdout",
     "output_type": "stream",
     "text": [
      "<class 'pandas.core.frame.DataFrame'>\n",
      "RangeIndex: 188593 entries, 0 to 188592\n",
      "Data columns (total 6 columns):\n",
      " #   Column                      Non-Null Count   Dtype  \n",
      "---  ------                      --------------   -----  \n",
      " 0   business_id                 188593 non-null  object \n",
      " 1   average_number_friends      188593 non-null  float64\n",
      " 2   average_days_on_yelp        188593 non-null  float64\n",
      " 3   average_number_fans         188593 non-null  float64\n",
      " 4   average_review_count        188593 non-null  float64\n",
      " 5   average_number_years_elite  188593 non-null  float64\n",
      "dtypes: float64(5), object(1)\n",
      "memory usage: 8.6+ MB\n"
     ]
    }
   ],
   "source": [
    "users.info()"
   ]
  },
  {
   "cell_type": "code",
   "execution_count": 9,
   "id": "b7f38ea2-4468-4556-8553-56fa6fc62da5",
   "metadata": {},
   "outputs": [
    {
     "name": "stdout",
     "output_type": "stream",
     "text": [
      "<class 'pandas.core.frame.DataFrame'>\n",
      "RangeIndex: 157075 entries, 0 to 157074\n",
      "Data columns (total 4 columns):\n",
      " #   Column            Non-Null Count   Dtype \n",
      "---  ------            --------------   ----- \n",
      " 0   business_id       157075 non-null  object\n",
      " 1   time              157075 non-null  object\n",
      " 2   weekday_checkins  157075 non-null  int64 \n",
      " 3   weekend_checkins  157075 non-null  int64 \n",
      "dtypes: int64(2), object(2)\n",
      "memory usage: 4.8+ MB\n"
     ]
    }
   ],
   "source": [
    "checkins.info()"
   ]
  },
  {
   "cell_type": "code",
   "execution_count": 10,
   "id": "a76f689b-041b-42c2-9c59-2c4b368b9bfc",
   "metadata": {},
   "outputs": [
    {
     "name": "stdout",
     "output_type": "stream",
     "text": [
      "<class 'pandas.core.frame.DataFrame'>\n",
      "RangeIndex: 121526 entries, 0 to 121525\n",
      "Data columns (total 3 columns):\n",
      " #   Column              Non-Null Count   Dtype  \n",
      "---  ------              --------------   -----  \n",
      " 0   business_id         121526 non-null  object \n",
      " 1   average_tip_length  121526 non-null  float64\n",
      " 2   number_tips         121526 non-null  int64  \n",
      "dtypes: float64(1), int64(1), object(1)\n",
      "memory usage: 2.8+ MB\n"
     ]
    }
   ],
   "source": [
    "tips.info()"
   ]
  },
  {
   "cell_type": "code",
   "execution_count": 11,
   "id": "03b99f6c-3b8d-4ea6-890a-a727afb1ab4b",
   "metadata": {},
   "outputs": [
    {
     "name": "stdout",
     "output_type": "stream",
     "text": [
      "<class 'pandas.core.frame.DataFrame'>\n",
      "RangeIndex: 32976 entries, 0 to 32975\n",
      "Data columns (total 3 columns):\n",
      " #   Column                  Non-Null Count  Dtype  \n",
      "---  ------                  --------------  -----  \n",
      " 0   business_id             32976 non-null  object \n",
      " 1   average_caption_length  32976 non-null  float64\n",
      " 2   number_pics             32976 non-null  int64  \n",
      "dtypes: float64(1), int64(1), object(1)\n",
      "memory usage: 773.0+ KB\n"
     ]
    }
   ],
   "source": [
    "photos.info()"
   ]
  },
  {
   "cell_type": "code",
   "execution_count": 12,
   "id": "cfb6eebe-a266-49a8-8fbe-16eca96ab03c",
   "metadata": {},
   "outputs": [],
   "source": [
    "merge1 = pd.merge(businesses, reviews, how='inner', on='business_id')"
   ]
  },
  {
   "cell_type": "code",
   "execution_count": 13,
   "id": "5dd7698b-04b1-4813-b39e-6507645868a1",
   "metadata": {},
   "outputs": [],
   "source": [
    "merge2 = pd.merge(users, checkins, how='inner', on='business_id')"
   ]
  },
  {
   "cell_type": "code",
   "execution_count": 14,
   "id": "0de97fb9-0399-482b-bb97-d0749c4694ca",
   "metadata": {},
   "outputs": [],
   "source": [
    "big_merge = pd.merge(merge1, merge2, how='inner', on='business_id')"
   ]
  },
  {
   "cell_type": "code",
   "execution_count": 15,
   "id": "3e0712ac-2f02-448f-b981-97fe661acbfc",
   "metadata": {},
   "outputs": [],
   "source": [
    "merge3 = pd.merge(tips, photos, how='inner', on='business_id')"
   ]
  },
  {
   "cell_type": "code",
   "execution_count": 16,
   "id": "c21e9a1c-3018-48b5-a9d3-77d8655ebd9e",
   "metadata": {},
   "outputs": [],
   "source": [
    "main_merge = pd.merge(big_merge, merge3, how='inner', on='business_id')"
   ]
  },
  {
   "cell_type": "code",
   "execution_count": 17,
   "id": "be4f5709-b76e-487b-8aed-f0ecb5efd7a2",
   "metadata": {},
   "outputs": [
    {
     "data": {
      "text/plain": [
       "address                       False\n",
       "alcohol?                      False\n",
       "attributes                     True\n",
       "business_id                   False\n",
       "categories                     True\n",
       "city                          False\n",
       "good_for_kids                 False\n",
       "has_bike_parking              False\n",
       "has_wifi                      False\n",
       "hours                          True\n",
       "is_open                       False\n",
       "latitude                      False\n",
       "longitude                     False\n",
       "name                          False\n",
       "neighborhood                  False\n",
       "postal_code                   False\n",
       "price_range                   False\n",
       "review_count                  False\n",
       "stars                         False\n",
       "state                         False\n",
       "take_reservations             False\n",
       "takes_credit_cards            False\n",
       "average_review_age            False\n",
       "average_review_length         False\n",
       "average_review_sentiment      False\n",
       "number_funny_votes            False\n",
       "number_cool_votes             False\n",
       "number_useful_votes           False\n",
       "average_number_friends        False\n",
       "average_days_on_yelp          False\n",
       "average_number_fans           False\n",
       "average_review_count          False\n",
       "average_number_years_elite    False\n",
       "time                          False\n",
       "weekday_checkins              False\n",
       "weekend_checkins              False\n",
       "average_tip_length            False\n",
       "number_tips                   False\n",
       "average_caption_length        False\n",
       "number_pics                   False\n",
       "dtype: bool"
      ]
     },
     "execution_count": 17,
     "metadata": {},
     "output_type": "execute_result"
    }
   ],
   "source": [
    "main_merge.isna().any()"
   ]
  },
  {
   "cell_type": "code",
   "execution_count": 18,
   "id": "3e03de70-7f80-4eaa-8f76-2d03ad89a9a8",
   "metadata": {},
   "outputs": [],
   "source": [
    "main_merge.fillna({'attributes': 0, 'categories': 0, 'hours': 0,}, inplace=True)"
   ]
  },
  {
   "cell_type": "code",
   "execution_count": 19,
   "id": "88dd8472-4478-4ce0-8141-40a7e1d50407",
   "metadata": {},
   "outputs": [
    {
     "data": {
      "text/plain": [
       "address                       False\n",
       "alcohol?                      False\n",
       "attributes                    False\n",
       "business_id                   False\n",
       "categories                    False\n",
       "city                          False\n",
       "good_for_kids                 False\n",
       "has_bike_parking              False\n",
       "has_wifi                      False\n",
       "hours                         False\n",
       "is_open                       False\n",
       "latitude                      False\n",
       "longitude                     False\n",
       "name                          False\n",
       "neighborhood                  False\n",
       "postal_code                   False\n",
       "price_range                   False\n",
       "review_count                  False\n",
       "stars                         False\n",
       "state                         False\n",
       "take_reservations             False\n",
       "takes_credit_cards            False\n",
       "average_review_age            False\n",
       "average_review_length         False\n",
       "average_review_sentiment      False\n",
       "number_funny_votes            False\n",
       "number_cool_votes             False\n",
       "number_useful_votes           False\n",
       "average_number_friends        False\n",
       "average_days_on_yelp          False\n",
       "average_number_fans           False\n",
       "average_review_count          False\n",
       "average_number_years_elite    False\n",
       "time                          False\n",
       "weekday_checkins              False\n",
       "weekend_checkins              False\n",
       "average_tip_length            False\n",
       "number_tips                   False\n",
       "average_caption_length        False\n",
       "number_pics                   False\n",
       "dtype: bool"
      ]
     },
     "execution_count": 19,
     "metadata": {},
     "output_type": "execute_result"
    }
   ],
   "source": [
    "main_merge.isna().any()"
   ]
  },
  {
   "cell_type": "code",
   "execution_count": 20,
   "id": "85df9b40-697f-4402-986e-5180e7fad21d",
   "metadata": {},
   "outputs": [
    {
     "data": {
      "text/plain": [
       "Index(['address', 'alcohol?', 'attributes', 'business_id', 'categories',\n",
       "       'city', 'good_for_kids', 'has_bike_parking', 'has_wifi', 'hours',\n",
       "       'is_open', 'latitude', 'longitude', 'name', 'neighborhood',\n",
       "       'postal_code', 'price_range', 'review_count', 'stars', 'state',\n",
       "       'take_reservations', 'takes_credit_cards', 'average_review_age',\n",
       "       'average_review_length', 'average_review_sentiment',\n",
       "       'number_funny_votes', 'number_cool_votes', 'number_useful_votes',\n",
       "       'average_number_friends', 'average_days_on_yelp', 'average_number_fans',\n",
       "       'average_review_count', 'average_number_years_elite', 'time',\n",
       "       'weekday_checkins', 'weekend_checkins', 'average_tip_length',\n",
       "       'number_tips', 'average_caption_length', 'number_pics'],\n",
       "      dtype='object')"
      ]
     },
     "execution_count": 20,
     "metadata": {},
     "output_type": "execute_result"
    }
   ],
   "source": [
    "main_merge.columns"
   ]
  },
  {
   "cell_type": "code",
   "execution_count": 21,
   "id": "ed817468-c4b7-4921-9b9c-ae8a18b0a563",
   "metadata": {},
   "outputs": [
    {
     "data": {
      "text/plain": [
       "<bound method Series.corr of 0        4.5\n",
       "1        2.5\n",
       "2        4.0\n",
       "3        4.0\n",
       "4        2.5\n",
       "        ... \n",
       "30120    3.5\n",
       "30121    4.5\n",
       "30122    3.0\n",
       "30123    3.5\n",
       "30124    4.0\n",
       "Name: stars, Length: 30125, dtype: float64>"
      ]
     },
     "execution_count": 21,
     "metadata": {},
     "output_type": "execute_result"
    }
   ],
   "source": [
    "main_merge['stars'].corr"
   ]
  },
  {
   "cell_type": "code",
   "execution_count": 64,
   "id": "c507face-b3f1-4239-bab6-ee0ae271b988",
   "metadata": {},
   "outputs": [],
   "source": [
    "features = main_merge[['average_review_length', 'average_review_age', 'price_range', 'average_number_friends']]"
   ]
  },
  {
   "cell_type": "code",
   "execution_count": 65,
   "id": "5c8d2150-7ec5-4430-9cf4-b214bd4ee4cc",
   "metadata": {},
   "outputs": [],
   "source": [
    "ratings = main_merge[['stars']]"
   ]
  },
  {
   "cell_type": "code",
   "execution_count": 66,
   "id": "6cebd8e4-7959-4541-bc5a-0242057f9343",
   "metadata": {},
   "outputs": [],
   "source": [
    "model = LinearRegression()"
   ]
  },
  {
   "cell_type": "code",
   "execution_count": 95,
   "id": "dee549e5-de2a-45cd-9d6f-bb10dab470f8",
   "metadata": {},
   "outputs": [],
   "source": [
    "X_train, X_test, y_train, y_test = train_test_split(features, ratings, test_size = 0.2, random_state = 100)"
   ]
  },
  {
   "cell_type": "code",
   "execution_count": 96,
   "id": "0be4ac83-d617-46b2-ba8e-391e8740750d",
   "metadata": {},
   "outputs": [
    {
     "data": {
      "text/html": [
       "<style>#sk-container-id-6 {color: black;background-color: white;}#sk-container-id-6 pre{padding: 0;}#sk-container-id-6 div.sk-toggleable {background-color: white;}#sk-container-id-6 label.sk-toggleable__label {cursor: pointer;display: block;width: 100%;margin-bottom: 0;padding: 0.3em;box-sizing: border-box;text-align: center;}#sk-container-id-6 label.sk-toggleable__label-arrow:before {content: \"▸\";float: left;margin-right: 0.25em;color: #696969;}#sk-container-id-6 label.sk-toggleable__label-arrow:hover:before {color: black;}#sk-container-id-6 div.sk-estimator:hover label.sk-toggleable__label-arrow:before {color: black;}#sk-container-id-6 div.sk-toggleable__content {max-height: 0;max-width: 0;overflow: hidden;text-align: left;background-color: #f0f8ff;}#sk-container-id-6 div.sk-toggleable__content pre {margin: 0.2em;color: black;border-radius: 0.25em;background-color: #f0f8ff;}#sk-container-id-6 input.sk-toggleable__control:checked~div.sk-toggleable__content {max-height: 200px;max-width: 100%;overflow: auto;}#sk-container-id-6 input.sk-toggleable__control:checked~label.sk-toggleable__label-arrow:before {content: \"▾\";}#sk-container-id-6 div.sk-estimator input.sk-toggleable__control:checked~label.sk-toggleable__label {background-color: #d4ebff;}#sk-container-id-6 div.sk-label input.sk-toggleable__control:checked~label.sk-toggleable__label {background-color: #d4ebff;}#sk-container-id-6 input.sk-hidden--visually {border: 0;clip: rect(1px 1px 1px 1px);clip: rect(1px, 1px, 1px, 1px);height: 1px;margin: -1px;overflow: hidden;padding: 0;position: absolute;width: 1px;}#sk-container-id-6 div.sk-estimator {font-family: monospace;background-color: #f0f8ff;border: 1px dotted black;border-radius: 0.25em;box-sizing: border-box;margin-bottom: 0.5em;}#sk-container-id-6 div.sk-estimator:hover {background-color: #d4ebff;}#sk-container-id-6 div.sk-parallel-item::after {content: \"\";width: 100%;border-bottom: 1px solid gray;flex-grow: 1;}#sk-container-id-6 div.sk-label:hover label.sk-toggleable__label {background-color: #d4ebff;}#sk-container-id-6 div.sk-serial::before {content: \"\";position: absolute;border-left: 1px solid gray;box-sizing: border-box;top: 0;bottom: 0;left: 50%;z-index: 0;}#sk-container-id-6 div.sk-serial {display: flex;flex-direction: column;align-items: center;background-color: white;padding-right: 0.2em;padding-left: 0.2em;position: relative;}#sk-container-id-6 div.sk-item {position: relative;z-index: 1;}#sk-container-id-6 div.sk-parallel {display: flex;align-items: stretch;justify-content: center;background-color: white;position: relative;}#sk-container-id-6 div.sk-item::before, #sk-container-id-6 div.sk-parallel-item::before {content: \"\";position: absolute;border-left: 1px solid gray;box-sizing: border-box;top: 0;bottom: 0;left: 50%;z-index: -1;}#sk-container-id-6 div.sk-parallel-item {display: flex;flex-direction: column;z-index: 1;position: relative;background-color: white;}#sk-container-id-6 div.sk-parallel-item:first-child::after {align-self: flex-end;width: 50%;}#sk-container-id-6 div.sk-parallel-item:last-child::after {align-self: flex-start;width: 50%;}#sk-container-id-6 div.sk-parallel-item:only-child::after {width: 0;}#sk-container-id-6 div.sk-dashed-wrapped {border: 1px dashed gray;margin: 0 0.4em 0.5em 0.4em;box-sizing: border-box;padding-bottom: 0.4em;background-color: white;}#sk-container-id-6 div.sk-label label {font-family: monospace;font-weight: bold;display: inline-block;line-height: 1.2em;}#sk-container-id-6 div.sk-label-container {text-align: center;}#sk-container-id-6 div.sk-container {/* jupyter's `normalize.less` sets `[hidden] { display: none; }` but bootstrap.min.css set `[hidden] { display: none !important; }` so we also need the `!important` here to be able to override the default hidden behavior on the sphinx rendered scikit-learn.org. See: https://github.com/scikit-learn/scikit-learn/issues/21755 */display: inline-block !important;position: relative;}#sk-container-id-6 div.sk-text-repr-fallback {display: none;}</style><div id=\"sk-container-id-6\" class=\"sk-top-container\"><div class=\"sk-text-repr-fallback\"><pre>LinearRegression()</pre><b>In a Jupyter environment, please rerun this cell to show the HTML representation or trust the notebook. <br />On GitHub, the HTML representation is unable to render, please try loading this page with nbviewer.org.</b></div><div class=\"sk-container\" hidden><div class=\"sk-item\"><div class=\"sk-estimator sk-toggleable\"><input class=\"sk-toggleable__control sk-hidden--visually\" id=\"sk-estimator-id-6\" type=\"checkbox\" checked><label for=\"sk-estimator-id-6\" class=\"sk-toggleable__label sk-toggleable__label-arrow\">LinearRegression</label><div class=\"sk-toggleable__content\"><pre>LinearRegression()</pre></div></div></div></div></div>"
      ],
      "text/plain": [
       "LinearRegression()"
      ]
     },
     "execution_count": 96,
     "metadata": {},
     "output_type": "execute_result"
    }
   ],
   "source": [
    "model.fit(X_train, y_train)"
   ]
  },
  {
   "cell_type": "code",
   "execution_count": 97,
   "id": "2e3c44b1-e2d1-4bec-bedb-5cd86504fc5a",
   "metadata": {},
   "outputs": [],
   "source": [
    "train_score = model.score(X_train, y_train)\n",
    "test_score = model.score(X_test, y_test)"
   ]
  },
  {
   "cell_type": "code",
   "execution_count": 98,
   "id": "2c74352d-ea53-4ed3-9987-cd464ec57a4f",
   "metadata": {},
   "outputs": [
    {
     "name": "stdout",
     "output_type": "stream",
     "text": [
      "0.0437123600736411\n"
     ]
    }
   ],
   "source": [
    "print(train_score)"
   ]
  },
  {
   "cell_type": "code",
   "execution_count": 99,
   "id": "bd2e9181-c1b0-4046-9da7-3aab45245c49",
   "metadata": {},
   "outputs": [
    {
     "name": "stdout",
     "output_type": "stream",
     "text": [
      "0.03812994412103743\n"
     ]
    }
   ],
   "source": [
    "print(test_score)"
   ]
  },
  {
   "cell_type": "code",
   "execution_count": 100,
   "id": "82409e95-aa62-4bac-a81e-ab4d31d4cc61",
   "metadata": {},
   "outputs": [],
   "source": [
    "y_predicted = model.predict(X_test)"
   ]
  },
  {
   "cell_type": "code",
   "execution_count": 101,
   "id": "4d62a1c7-45ea-4a90-9788-3f76343da4dc",
   "metadata": {},
   "outputs": [
    {
     "data": {
      "image/png": "[encoded data removed]",
      "text/plain": [
       "<Figure size 640x480 with 1 Axes>"
      ]
     },
     "metadata": {},
     "output_type": "display_data"
    }
   ],
   "source": [
    "plt.scatter(y_test, y_predicted)\n",
    "plt.ylabel('Predicted Yelp Ratings')\n",
    "plt.xlabel('Actual Yelp Ratings')\n",
    "plt.title('Actual vs Predicted Yelp Ratings')\n",
    "plt.show()"
   ]
  },
  {
   "cell_type": "code",
   "execution_count": null,
   "id": "f6104035-e15c-4f9f-b326-dfad5fda18ce",
   "metadata": {},
   "outputs": [],
   "source": []
  }
 ],
 "metadata": {
  "kernelspec": {
   "display_name": "Python 3 (ipykernel)",
   "language": "python",
   "name": "python3"
  },
  "language_info": {
   "codemirror_mode": {
    "name": "ipython",
    "version": 3
   },
   "file_extension": ".py",
   "mimetype": "text/x-python",
   "name": "python",
   "nbconvert_exporter": "python",
   "pygments_lexer": "ipython3",
   "version": "3.11.7"
  }
 },
 "nbformat": 4,
 "nbformat_minor": 5
}
